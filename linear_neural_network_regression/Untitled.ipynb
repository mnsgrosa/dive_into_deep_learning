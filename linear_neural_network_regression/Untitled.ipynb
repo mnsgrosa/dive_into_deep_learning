{
 "cells": [
  {
   "cell_type": "markdown",
   "id": "d177dd74",
   "metadata": {},
   "source": [
    "# Weight Decay"
   ]
  },
  {
   "cell_type": "markdown",
   "id": "01a6c211",
   "metadata": {},
   "source": [
    "Metodo de regualarizacao"
   ]
  },
  {
   "cell_type": "markdown",
   "id": "9aa353f1",
   "metadata": {},
   "source": [
    "## Normas e weight decay"
   ]
  },
  {
   "cell_type": "markdown",
   "id": "4c53f183",
   "metadata": {},
   "source": [
    "Weight decay opera restrigindo os valores que o parametro pode ter. Mais comumente chamado de regularizacao l2(ridge) o decay e a tecnica mais utilizada de regularizacao. A tecnica e motivada por uma intuicao basica entre todas as funcoes f a funcao f = 0 e de certa forma a mais simples, e isso podemos medir a complexidade de uma funcao por distancia de seus parametros para zero."
   ]
  },
  {
   "cell_type": "markdown",
   "id": "4ebd4ce5",
   "metadata": {},
   "source": [
    "## Funcao de loss de regressao linear"
   ]
  },
  {
   "cell_type": "code",
   "execution_count": 1,
   "id": "1c51366f",
   "metadata": {
    "hide_input": true
   },
   "outputs": [],
   "source": [
    "from IPython.display import Image"
   ]
  },
  {
   "cell_type": "code",
   "execution_count": 2,
   "id": "05fdf530",
   "metadata": {
    "hide_input": true
   },
   "outputs": [
    {
     "data": {
      "image/png": "[encoded data removed]",
      "text/plain": [
       "<IPython.core.display.Image object>"
      ]
     },
     "execution_count": 2,
     "metadata": {},
     "output_type": "execute_result"
    }
   ],
   "source": [
    "Image(filename = 'lin_1.png')"
   ]
  },
  {
   "cell_type": "markdown",
   "id": "70866c39",
   "metadata": {},
   "source": [
    "## Funcao de loss de modelo regularizado"
   ]
  },
  {
   "cell_type": "code",
   "execution_count": 3,
   "id": "c56e4180",
   "metadata": {
    "hide_input": true
   },
   "outputs": [
    {
     "data": {
      "image/png": "[encoded data removed]",
      "text/plain": [
       "<IPython.core.display.Image object>"
      ]
     },
     "execution_count": 3,
     "metadata": {},
     "output_type": "execute_result"
    }
   ],
   "source": [
    "Image(filename = 'lin_2.png')"
   ]
  },
  {
   "cell_type": "markdown",
   "id": "2574aaf2",
   "metadata": {},
   "source": [
    "Com lambda = 0 temos a funcao original. Para lambda > 0 restringimos o tamanho de ||W||. Dividimos por 2 por convencao(conveniencia tambem por sua derivada cancelar o valor) e fora isso utiliza-se a forma quadratica nao a norma para evitar calculos de raizes quadradas salvando tempo de computacao. Mas porque usar o ridge e nao o lasso?\n",
    "Basicamente porque o ridge meio tira o bias de algumas features(olhar as anotacoes de handson ml)"
   ]
  },
  {
   "cell_type": "markdown",
   "id": "d2848c95",
   "metadata": {},
   "source": [
    "## Usando a notacao para minibatch sgd para o l2(rigde) regularization"
   ]
  },
  {
   "cell_type": "code",
   "execution_count": 4,
   "id": "6e4ba33a",
   "metadata": {
    "hide_input": true
   },
   "outputs": [
    {
     "data": {
      "image/png": "[encoded data removed]",
      "text/plain": [
       "<IPython.core.display.Image object>"
      ]
     },
     "execution_count": 4,
     "metadata": {},
     "output_type": "execute_result"
    }
   ],
   "source": [
    "Image(filename = 'lin_3.png')"
   ]
  },
  {
   "cell_type": "markdown",
   "id": "0e19b4dc",
   "metadata": {},
   "source": [
    "## Codigo"
   ]
  },
  {
   "cell_type": "code",
   "execution_count": 5,
   "id": "bd213554",
   "metadata": {},
   "outputs": [],
   "source": [
    "%matplotlib inline\n",
    "import torch\n",
    "from torch import nn\n",
    "from d2l import torch as d2l"
   ]
  },
  {
   "cell_type": "code",
   "execution_count": 6,
   "id": "e9f9c732",
   "metadata": {},
   "outputs": [],
   "source": [
    "class Data:\n",
    "    def __init__(self, num_train, num_val, num_inputs, batch_size):\n",
    "        self.num_train = num_train\n",
    "        self.num_val = num_val\n",
    "        self.batch_size = batch_size\n",
    "        n = num_train + num_val\n",
    "        self.X = torch.randn(n, num_inputs)\n",
    "        noise = torch.randn(n, 1) * 0.01\n",
    "        w, b = torch.ones((num_inputs, 1)) * 0.01, 0.05\n",
    "        self.y = torch.matmul(self.X, w) + b + noise\n",
    "        \n",
    "    def get_dataloader(self, train):\n",
    "        i = slice(0, self.num_train) if trian else slice(self.num_train, None)\n",
    "        return self.get_tensorloader([self.X, self.y], train, i)"
   ]
  },
  {
   "cell_type": "markdown",
   "id": "3868a56b",
   "metadata": {},
   "source": [
    "## Implementando do 0"
   ]
  },
  {
   "cell_type": "code",
   "execution_count": 7,
   "id": "fa4c432b",
   "metadata": {},
   "outputs": [],
   "source": [
    "def l2_penalty(w):\n",
    "    return (w ** 2).sum() / 2"
   ]
  },
  {
   "cell_type": "code",
   "execution_count": 9,
   "id": "fa252e90",
   "metadata": {},
   "outputs": [
    {
     "ename": "AttributeError",
     "evalue": "module 'd2l.torch' has no attribute 'LinearRegressionScratch'",
     "output_type": "error",
     "traceback": [
      "\u001b[0;31m---------------------------------------------------------------------------\u001b[0m",
      "\u001b[0;31mAttributeError\u001b[0m                            Traceback (most recent call last)",
      "Cell \u001b[0;32mIn [9], line 1\u001b[0m\n\u001b[0;32m----> 1\u001b[0m \u001b[38;5;28;01mclass\u001b[39;00m \u001b[38;5;21;01mWeightDecayScratch\u001b[39;00m(d2l\u001b[38;5;241m.\u001b[39mLinearRegressionScratch):\n\u001b[1;32m      2\u001b[0m     \u001b[38;5;28;01mdef\u001b[39;00m \u001b[38;5;21m__init__\u001b[39m(\u001b[38;5;28mself\u001b[39m, num_inputs, lr, sigma):\n\u001b[1;32m      3\u001b[0m         \u001b[38;5;28msuper\u001b[39m()\u001b[38;5;241m.\u001b[39m\u001b[38;5;21m__init__\u001b[39m(num_inputs, lr, sigma)\n",
      "\u001b[0;31mAttributeError\u001b[0m: module 'd2l.torch' has no attribute 'LinearRegressionScratch'"
     ]
    }
   ],
   "source": [
    "class WeightDecayScratch(d2l.LinearRegressionScratch):\n",
    "    def __init__(self, num_inputs, lr, sigma):\n",
    "        super().__init__(num_inputs, lr, sigma)\n",
    "        self.save_hyperparameters()"
   ]
  },
  {
   "cell_type": "code",
   "execution_count": null,
   "id": "dc1f4a67",
   "metadata": {},
   "outputs": [],
   "source": []
  }
 ],
 "metadata": {
  "kernelspec": {
   "display_name": "Python 3 (ipykernel)",
   "language": "python",
   "name": "python3"
  },
  "language_info": {
   "codemirror_mode": {
    "name": "ipython",
    "version": 3
   },
   "file_extension": ".py",
   "mimetype": "text/x-python",
   "name": "python",
   "nbconvert_exporter": "python",
   "pygments_lexer": "ipython3",
   "version": "3.10.7"
  },
  "varInspector": {
   "cols": {
    "lenName": 16,
    "lenType": 16,
    "lenVar": 40
   },
   "kernels_config": {
    "python": {
     "delete_cmd_postfix": "",
     "delete_cmd_prefix": "del ",
     "library": "var_list.py",
     "varRefreshCmd": "print(var_dic_list())"
    },
    "r": {
     "delete_cmd_postfix": ") ",
     "delete_cmd_prefix": "rm(",
     "library": "var_list.r",
     "varRefreshCmd": "cat(var_dic_list()) "
    }
   },
   "types_to_exclude": [
    "module",
    "function",
    "builtin_function_or_method",
    "instance",
    "_Feature"
   ],
   "window_display": false
  }
 },
 "nbformat": 4,
 "nbformat_minor": 5
}
