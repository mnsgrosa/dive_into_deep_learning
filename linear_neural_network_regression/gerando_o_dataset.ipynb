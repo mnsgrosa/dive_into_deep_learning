{
 "cells": [
  {
   "cell_type": "code",
   "execution_count": 1,
   "id": "c8533f05",
   "metadata": {},
   "outputs": [],
   "source": [
    "%matplotlib inline\n",
    "import random\n",
    "import torch\n",
    "from d2l import torch as d2l"
   ]
  },
  {
   "cell_type": "code",
   "execution_count": 3,
   "id": "63244849",
   "metadata": {},
   "outputs": [],
   "source": [
    "# class Synthetic_regression_data(d2l.DataModule):\n",
    "#     def __init__(self, w, b, noise = 0.01, num_train = 1000, num_val = 1000, batch_size = 32):\n",
    "#         super().__init__()\n",
    "#         self.save_hyperparameters()\n",
    "#         n = num_train + num_val\n",
    "#         self.X = torch.randn(n, len(w))\n",
    "#         noise = torch.randn(n, 1) * noise\n",
    "#         self.y = torch.matmul(self.X, w.reshape((-1, 1)) + b + noise)"
   ]
  },
  {
   "cell_type": "code",
   "execution_count": null,
   "id": "d444ce94",
   "metadata": {},
   "outputs": [],
   "source": []
  }
 ],
 "metadata": {
  "kernelspec": {
   "display_name": "Python 3 (ipykernel)",
   "language": "python",
   "name": "python3"
  },
  "language_info": {
   "codemirror_mode": {
    "name": "ipython",
    "version": 3
   },
   "file_extension": ".py",
   "mimetype": "text/x-python",
   "name": "python",
   "nbconvert_exporter": "python",
   "pygments_lexer": "ipython3",
   "version": "3.10.6"
  },
  "varInspector": {
   "cols": {
    "lenName": 16,
    "lenType": 16,
    "lenVar": 40
   },
   "kernels_config": {
    "python": {
     "delete_cmd_postfix": "",
     "delete_cmd_prefix": "del ",
     "library": "var_list.py",
     "varRefreshCmd": "print(var_dic_list())"
    },
    "r": {
     "delete_cmd_postfix": ") ",
     "delete_cmd_prefix": "rm(",
     "library": "var_list.r",
     "varRefreshCmd": "cat(var_dic_list()) "
    }
   },
   "types_to_exclude": [
    "module",
    "function",
    "builtin_function_or_method",
    "instance",
    "_Feature"
   ],
   "window_display": false
  }
 },
 "nbformat": 4,
 "nbformat_minor": 5
}
