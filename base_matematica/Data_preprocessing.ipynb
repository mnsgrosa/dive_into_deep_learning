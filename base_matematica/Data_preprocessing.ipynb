{
 "cells": [
  {
   "cell_type": "code",
   "execution_count": 5,
   "id": "4127de08",
   "metadata": {},
   "outputs": [],
   "source": [
    "import torch\n",
    "import pandas as pd\n",
    "import os"
   ]
  },
  {
   "cell_type": "markdown",
   "id": "42b270f1",
   "metadata": {},
   "source": [
    "Preparacao dos dados"
   ]
  },
  {
   "cell_type": "code",
   "execution_count": 6,
   "id": "3a6f8f01",
   "metadata": {},
   "outputs": [],
   "source": [
    "os.makedirs(os.path.join('..', 'data'), exist_ok=True)\n",
    "data_file = os.path.join('..', 'data', 'house_tiny.csv')\n",
    "with open(data_file, 'w') as f:\n",
    "    f.write('''NumRooms,RoofType,Price\n",
    "    NA,NA,127500\n",
    "    2,NA,106000\n",
    "    4,Slate,178100\n",
    "    NA,NA,140000''')"
   ]
  },
  {
   "cell_type": "code",
   "execution_count": 7,
   "id": "60359cc1",
   "metadata": {},
   "outputs": [
    {
     "name": "stdout",
     "output_type": "stream",
     "text": [
      "  NumRooms RoofType   Price\n",
      "0       NA      NaN  127500\n",
      "1        2      NaN  106000\n",
      "2        4    Slate  178100\n",
      "3       NA      NaN  140000\n"
     ]
    }
   ],
   "source": [
    "data = pd.read_csv(data_file)\n",
    "print(data)"
   ]
  },
  {
   "cell_type": "code",
   "execution_count": 8,
   "id": "8f3fc001",
   "metadata": {
    "hide_input": false
   },
   "outputs": [
    {
     "name": "stdout",
     "output_type": "stream",
     "text": [
      "   NumRooms_    2  NumRooms_    4  NumRooms_    NA  NumRooms_nan  \\\n",
      "0               0               0                1             0   \n",
      "1               1               0                0             0   \n",
      "2               0               1                0             0   \n",
      "3               0               0                1             0   \n",
      "\n",
      "   RoofType_Slate  RoofType_nan  \n",
      "0               0             1  \n",
      "1               0             1  \n",
      "2               1             0  \n",
      "3               0             1  \n"
     ]
    }
   ],
   "source": [
    "inputs, targets = data.iloc[:, 0:2], data.iloc[:, 2]\n",
    "inputs = pd.get_dummies(inputs, dummy_na = True)\n",
    "print(inputs)"
   ]
  },
  {
   "cell_type": "code",
   "execution_count": 11,
   "id": "c2cd7263",
   "metadata": {},
   "outputs": [
    {
     "name": "stdout",
     "output_type": "stream",
     "text": [
      "   NumRooms_    2  NumRooms_    4  NumRooms_    NA  NumRooms_nan  \\\n",
      "0               0               0                1             0   \n",
      "1               1               0                0             0   \n",
      "2               0               1                0             0   \n",
      "3               0               0                1             0   \n",
      "\n",
      "   RoofType_Slate  RoofType_nan  \n",
      "0               0             1  \n",
      "1               0             1  \n",
      "2               1             0  \n",
      "3               0             1  \n"
     ]
    }
   ],
   "source": [
    "inputs = inputs.fillna(inputs.mean())\n",
    "print(inputs)"
   ]
  },
  {
   "cell_type": "markdown",
   "id": "21f3d819",
   "metadata": {},
   "source": [
    "Convertendo ao formato de tensor"
   ]
  },
  {
   "cell_type": "code",
   "execution_count": 13,
   "id": "df278bdc",
   "metadata": {},
   "outputs": [
    {
     "data": {
      "text/plain": [
       "(tensor([[0, 0, 1, 0, 0, 1],\n",
       "         [1, 0, 0, 0, 0, 1],\n",
       "         [0, 1, 0, 0, 1, 0],\n",
       "         [0, 0, 1, 0, 0, 1]], dtype=torch.uint8),\n",
       " tensor([127500, 106000, 178100, 140000]))"
      ]
     },
     "execution_count": 13,
     "metadata": {},
     "output_type": "execute_result"
    }
   ],
   "source": [
    "X, y = torch.tensor(inputs.values), torch.tensor(targets.values)\n",
    "X, y"
   ]
  },
  {
   "cell_type": "code",
   "execution_count": null,
   "id": "02c1d3dd",
   "metadata": {},
   "outputs": [],
   "source": []
  }
 ],
 "metadata": {
  "kernelspec": {
   "display_name": "Python 3 (ipykernel)",
   "language": "python",
   "name": "python3"
  },
  "language_info": {
   "codemirror_mode": {
    "name": "ipython",
    "version": 3
   },
   "file_extension": ".py",
   "mimetype": "text/x-python",
   "name": "python",
   "nbconvert_exporter": "python",
   "pygments_lexer": "ipython3",
   "version": "3.10.6"
  },
  "varInspector": {
   "cols": {
    "lenName": 16,
    "lenType": 16,
    "lenVar": 40
   },
   "kernels_config": {
    "python": {
     "delete_cmd_postfix": "",
     "delete_cmd_prefix": "del ",
     "library": "var_list.py",
     "varRefreshCmd": "print(var_dic_list())"
    },
    "r": {
     "delete_cmd_postfix": ") ",
     "delete_cmd_prefix": "rm(",
     "library": "var_list.r",
     "varRefreshCmd": "cat(var_dic_list()) "
    }
   },
   "types_to_exclude": [
    "module",
    "function",
    "builtin_function_or_method",
    "instance",
    "_Feature"
   ],
   "window_display": false
  }
 },
 "nbformat": 4,
 "nbformat_minor": 5
}
